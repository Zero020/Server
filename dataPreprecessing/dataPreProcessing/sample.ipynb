{
 "cells": [
  {
   "cell_type": "code",
   "execution_count": 24,
   "metadata": {},
   "outputs": [],
   "source": [
    "import json\n",
    "import matplotlib.pyplot as plt\n",
    "import pandas as pd"
   ]
  },
  {
   "cell_type": "markdown",
   "metadata": {},
   "source": []
  },
  {
   "cell_type": "code",
   "execution_count": 25,
   "metadata": {},
   "outputs": [],
   "source": [
    "with open(r\"C:\\Users\\hi020\\Desktop\\play\\sample_train1\\annotations.json\") as f:\n",
    "    data = json.load(f)"
   ]
  },
  {
   "cell_type": "code",
   "execution_count": 26,
   "metadata": {},
   "outputs": [
    {
     "data": {
      "text/plain": [
       "[{'y': 254, 'x': 51, 'w': 8, 'h': 8},\n",
       " {'y': 211, 'x': 51, 'w': 8, 'h': 8},\n",
       " {'y': 167, 'x': 51, 'w': 8, 'h': 8},\n",
       " {'y': 123, 'x': 51, 'w': 8, 'h': 8},\n",
       " {'y': 79, 'x': 51, 'w': 8, 'h': 8},\n",
       " {'y': 36, 'x': 51, 'w': 8, 'h': 8},\n",
       " {'y': 254, 'x': 51, 'w': 8, 'h': 8},\n",
       " {'y': 211, 'x': 51, 'w': 8, 'h': 8},\n",
       " {'y': 167, 'x': 51, 'w': 8, 'h': 8},\n",
       " {'y': 123, 'x': 51, 'w': 8, 'h': 8},\n",
       " {'y': 79, 'x': 51, 'w': 8, 'h': 8},\n",
       " {'y': 36, 'x': 51, 'w': 8, 'h': 8}]"
      ]
     },
     "execution_count": 26,
     "metadata": {},
     "output_type": "execute_result"
    }
   ],
   "source": [
    "data[0]['general_figure_info']['y_axis']['major_ticks']['bboxes']"
   ]
  },
  {
   "cell_type": "code",
   "execution_count": 27,
   "metadata": {},
   "outputs": [
    {
     "data": {
      "text/plain": [
       "[{'y': 280, 'x': 81, 'w': 14, 'h': 28.234375},\n",
       " {'y': 280, 'x': 143, 'w': 14, 'h': 86.78125},\n",
       " {'y': 280, 'x': 205, 'w': 14, 'h': 62.4375},\n",
       " {'y': 280, 'x': 268, 'w': 14, 'h': 63.765625},\n",
       " {'y': 280, 'x': 330, 'w': 14, 'h': 28.75},\n",
       " {'y': 280, 'x': 392, 'w': 14, 'h': 73.03125},\n",
       " {'y': 280, 'x': 454, 'w': 14, 'h': 87.328125},\n",
       " {'y': 280, 'x': 516, 'w': 14, 'h': 72.453125},\n",
       " {'y': 280, 'x': 579, 'w': 14, 'h': 58.75},\n",
       " {'y': 280, 'x': 641, 'w': 14, 'h': 56.6875},\n",
       " {'y': 280, 'x': 81, 'w': 14, 'h': 28.234375},\n",
       " {'y': 280, 'x': 143, 'w': 14, 'h': 86.78125},\n",
       " {'y': 280, 'x': 205, 'w': 14, 'h': 62.4375},\n",
       " {'y': 280, 'x': 268, 'w': 14, 'h': 63.765625},\n",
       " {'y': 280, 'x': 330, 'w': 14, 'h': 28.75},\n",
       " {'y': 280, 'x': 392, 'w': 14, 'h': 73.03125},\n",
       " {'y': 280, 'x': 454, 'w': 14, 'h': 87.328125},\n",
       " {'y': 280, 'x': 516, 'w': 14, 'h': 72.453125},\n",
       " {'y': 280, 'x': 579, 'w': 14, 'h': 58.75},\n",
       " {'y': 280, 'x': 641, 'w': 14, 'h': 56.6875}]"
      ]
     },
     "execution_count": 27,
     "metadata": {},
     "output_type": "execute_result"
    }
   ],
   "source": [
    "data[0]['general_figure_info']['x_axis']['major_labels']['bboxes']"
   ]
  },
  {
   "cell_type": "markdown",
   "metadata": {},
   "source": []
  },
  {
   "cell_type": "code",
   "execution_count": 28,
   "metadata": {},
   "outputs": [],
   "source": [
    "\n",
    "num = 0\n",
    "\n"
   ]
  },
  {
   "cell_type": "code",
   "execution_count": 29,
   "metadata": {},
   "outputs": [
    {
     "data": {
      "text/plain": [
       "[{'name': 'bars',\n",
       "  'labels': ['Cyan',\n",
       "   'Dark Turquoise',\n",
       "   'Cornflower',\n",
       "   'Bubblegum',\n",
       "   'Olive',\n",
       "   'Forest Green',\n",
       "   'Medium Orchid',\n",
       "   'Dark Salmon',\n",
       "   'Light Gold',\n",
       "   'Dark Gold'],\n",
       "  'width': 0.5,\n",
       "  'colors': ['#00FFFF',\n",
       "   '#00CED1',\n",
       "   '#6495ED',\n",
       "   '#DB7093',\n",
       "   '#808000',\n",
       "   '#228B22',\n",
       "   '#BA55D3',\n",
       "   '#E9967A',\n",
       "   '#FFD700',\n",
       "   '#B8860B'],\n",
       "  'bboxes': [{'y': 42, 'x': 72, 'w': 31, 'h': 217},\n",
       "   {'y': 47, 'x': 135, 'w': 31, 'h': 212},\n",
       "   {'y': 52, 'x': 197, 'w': 31, 'h': 207},\n",
       "   {'y': 56, 'x': 259, 'w': 31, 'h': 202},\n",
       "   {'y': 61, 'x': 321, 'w': 31, 'h': 197},\n",
       "   {'y': 66, 'x': 383, 'w': 31, 'h': 192},\n",
       "   {'y': 71, 'x': 446, 'w': 31, 'h': 187},\n",
       "   {'y': 76, 'x': 508, 'w': 31, 'h': 182},\n",
       "   {'y': 81, 'x': 570, 'w': 31, 'h': 178},\n",
       "   {'y': 86, 'x': 632, 'w': 31, 'h': 173}],\n",
       "  'y': [99.0,\n",
       "   96.77066720118789,\n",
       "   94.54133440237577,\n",
       "   92.31200160356366,\n",
       "   90.08266880475153,\n",
       "   87.85333600593943,\n",
       "   85.6240032071273,\n",
       "   83.39467040831519,\n",
       "   81.16533760950307,\n",
       "   78.93600481069096],\n",
       "  'x': ['Cyan',\n",
       "   'Dark Turquoise',\n",
       "   'Cornflower',\n",
       "   'Bubblegum',\n",
       "   'Olive',\n",
       "   'Forest Green',\n",
       "   'Medium Orchid',\n",
       "   'Dark Salmon',\n",
       "   'Light Gold',\n",
       "   'Dark Gold']}]"
      ]
     },
     "execution_count": 29,
     "metadata": {},
     "output_type": "execute_result"
    }
   ],
   "source": [
    "data[num]['models']"
   ]
  },
  {
   "cell_type": "code",
   "execution_count": 30,
   "metadata": {},
   "outputs": [],
   "source": [
    "bbox_list = []\n",
    "\n",
    "def yxwh(x, bbox_list):\n",
    "    if x:\n",
    "        if type(x) == list:\n",
    "            for _x in x:\n",
    "                if type(_x) == dict:\n",
    "                    a = _x.keys()\n",
    "                    for i in a:\n",
    "                        if i == 'bboxes':\n",
    "                            bbox_list += _x[i]\n",
    "                        elif i == 'bbox':\n",
    "                            bbox_list.append(_x[i])\n",
    "                        else:\n",
    "                            yxwh(_x[i], bbox_list)\n",
    "        elif type(x) == dict:\n",
    "            a = x.keys()\n",
    "            for i in a:\n",
    "                if i == 'bboxes':\n",
    "                    bbox_list += x[i]\n",
    "                elif i == 'bbox':\n",
    "                    if list(x[i].keys()) == ['bbox']:\n",
    "                        bbox_list.append(x[i]['bbox'])\n",
    "                    else:\n",
    "                        bbox_list.append(x[i])\n",
    "                else:\n",
    "                    yxwh(x[i], bbox_list)\n",
    "yxwh(data[num]['models'], bbox_list)"
   ]
  },
  {
   "cell_type": "code",
   "execution_count": 31,
   "metadata": {},
   "outputs": [
    {
     "data": {
      "text/plain": [
       "[{'y': 42, 'x': 72, 'w': 31, 'h': 217},\n",
       " {'y': 47, 'x': 135, 'w': 31, 'h': 212},\n",
       " {'y': 52, 'x': 197, 'w': 31, 'h': 207},\n",
       " {'y': 56, 'x': 259, 'w': 31, 'h': 202},\n",
       " {'y': 61, 'x': 321, 'w': 31, 'h': 197},\n",
       " {'y': 66, 'x': 383, 'w': 31, 'h': 192},\n",
       " {'y': 71, 'x': 446, 'w': 31, 'h': 187},\n",
       " {'y': 76, 'x': 508, 'w': 31, 'h': 182},\n",
       " {'y': 81, 'x': 570, 'w': 31, 'h': 178},\n",
       " {'y': 86, 'x': 632, 'w': 31, 'h': 173}]"
      ]
     },
     "execution_count": 31,
     "metadata": {},
     "output_type": "execute_result"
    }
   ],
   "source": [
    "bbox_list"
   ]
  },
  {
   "cell_type": "code",
   "execution_count": 32,
   "metadata": {},
   "outputs": [
    {
     "data": {
      "text/plain": [
       "[{'name': 'bars',\n",
       "  'labels': ['Cyan',\n",
       "   'Dark Turquoise',\n",
       "   'Cornflower',\n",
       "   'Bubblegum',\n",
       "   'Olive',\n",
       "   'Forest Green',\n",
       "   'Medium Orchid',\n",
       "   'Dark Salmon',\n",
       "   'Light Gold',\n",
       "   'Dark Gold'],\n",
       "  'width': 0.5,\n",
       "  'colors': ['#00FFFF',\n",
       "   '#00CED1',\n",
       "   '#6495ED',\n",
       "   '#DB7093',\n",
       "   '#808000',\n",
       "   '#228B22',\n",
       "   '#BA55D3',\n",
       "   '#E9967A',\n",
       "   '#FFD700',\n",
       "   '#B8860B'],\n",
       "  'bboxes': [{'y': 42, 'x': 72, 'w': 31, 'h': 217},\n",
       "   {'y': 47, 'x': 135, 'w': 31, 'h': 212},\n",
       "   {'y': 52, 'x': 197, 'w': 31, 'h': 207},\n",
       "   {'y': 56, 'x': 259, 'w': 31, 'h': 202},\n",
       "   {'y': 61, 'x': 321, 'w': 31, 'h': 197},\n",
       "   {'y': 66, 'x': 383, 'w': 31, 'h': 192},\n",
       "   {'y': 71, 'x': 446, 'w': 31, 'h': 187},\n",
       "   {'y': 76, 'x': 508, 'w': 31, 'h': 182},\n",
       "   {'y': 81, 'x': 570, 'w': 31, 'h': 178},\n",
       "   {'y': 86, 'x': 632, 'w': 31, 'h': 173}],\n",
       "  'y': [99.0,\n",
       "   96.77066720118789,\n",
       "   94.54133440237577,\n",
       "   92.31200160356366,\n",
       "   90.08266880475153,\n",
       "   87.85333600593943,\n",
       "   85.6240032071273,\n",
       "   83.39467040831519,\n",
       "   81.16533760950307,\n",
       "   78.93600481069096],\n",
       "  'x': ['Cyan',\n",
       "   'Dark Turquoise',\n",
       "   'Cornflower',\n",
       "   'Bubblegum',\n",
       "   'Olive',\n",
       "   'Forest Green',\n",
       "   'Medium Orchid',\n",
       "   'Dark Salmon',\n",
       "   'Light Gold',\n",
       "   'Dark Gold']}]"
      ]
     },
     "execution_count": 32,
     "metadata": {},
     "output_type": "execute_result"
    }
   ],
   "source": [
    "data[num]['models']"
   ]
  },
  {
   "cell_type": "markdown",
   "metadata": {},
   "source": []
  },
  {
   "cell_type": "code",
   "execution_count": null,
   "metadata": {},
   "outputs": [],
   "source": []
  },
  {
   "cell_type": "code",
   "execution_count": 45,
   "metadata": {},
   "outputs": [],
   "source": [
    "points = []\n",
    "\n",
    "# 바운딩 박스의 좌측 하단과 우측 상단 꼭지점을 points 리스트에 추가합니다.\n",
    "for bbox in bbox_list:\n",
    "    x = bbox['x']\n",
    "    y = bbox['y']\n",
    "    w = bbox['w']\n",
    "    h = bbox['h']\n",
    "    #print(x, y, w, h)\n",
    "    \n",
    "    # 좌측 하단 점\n",
    "    point1 = (x, y)\n",
    "    # 우측 상단 점\n",
    "    point2 = (x + w, y + h)\n",
    "    \n",
    "    points.append((point1, point2))\n",
    "   \n",
    "# 보조눈금의 y 좌표에 해당하는 중심점을 points 리스트에 추가합니다.\n",
    "for bbox in data[num]['general_figure_info']['x_axis']['minor_ticks']['bboxes']:\n",
    "    x = bbox['x']\n",
    "    y = bbox['y']\n",
    "    w = bbox['w']\n",
    "    h = bbox['h']\n",
    "    print(x+w/2,\",\", y+h/2)\n",
    "\n",
    "    # 바운딩 박스의 중심에 해당하는 y 좌표를 계산합니다.\n",
    "    center_y = (x + w / 2, y + h / 2)\n",
    "    \n",
    "    # 각 바운딩 박스의 좌측 하단과 우측 상단 꼭지점과 보조눈금의 y 좌표에 해당하는 중심점을 모두 추가합니다.\n",
    "    points.append((point1, point2, center_y))\n"
   ]
  },
  {
   "cell_type": "code",
   "execution_count": 47,
   "metadata": {},
   "outputs": [],
   "source": [
    "for bbox in data[num]['general_figure_info']['x_axis']['minor_ticks']['bboxes']:\n",
    "    x = bbox['x']\n",
    "    y = bbox['y']\n",
    "    w = bbox['w']\n",
    "    h = bbox['h']\n",
    "    print(x+w/2,\",\", y+h/2)"
   ]
  },
  {
   "cell_type": "code",
   "execution_count": 39,
   "metadata": {},
   "outputs": [
    {
     "data": {
      "text/plain": [
       "[{'y': 42, 'x': 72, 'w': 31, 'h': 217},\n",
       " {'y': 47, 'x': 135, 'w': 31, 'h': 212},\n",
       " {'y': 52, 'x': 197, 'w': 31, 'h': 207},\n",
       " {'y': 56, 'x': 259, 'w': 31, 'h': 202},\n",
       " {'y': 61, 'x': 321, 'w': 31, 'h': 197},\n",
       " {'y': 66, 'x': 383, 'w': 31, 'h': 192},\n",
       " {'y': 71, 'x': 446, 'w': 31, 'h': 187},\n",
       " {'y': 76, 'x': 508, 'w': 31, 'h': 182},\n",
       " {'y': 81, 'x': 570, 'w': 31, 'h': 178},\n",
       " {'y': 86, 'x': 632, 'w': 31, 'h': 173}]"
      ]
     },
     "execution_count": 39,
     "metadata": {},
     "output_type": "execute_result"
    }
   ],
   "source": [
    "bbox_list"
   ]
  },
  {
   "cell_type": "code",
   "execution_count": 38,
   "metadata": {},
   "outputs": [
    {
     "data": {
      "text/plain": [
       "[((72, 42), (103, 259)),\n",
       " ((135, 47), (166, 259)),\n",
       " ((197, 52), (228, 259)),\n",
       " ((259, 56), (290, 258)),\n",
       " ((321, 61), (352, 258)),\n",
       " ((383, 66), (414, 258)),\n",
       " ((446, 71), (477, 258)),\n",
       " ((508, 76), (539, 258)),\n",
       " ((570, 81), (601, 259)),\n",
       " ((632, 86), (663, 259))]"
      ]
     },
     "execution_count": 38,
     "metadata": {},
     "output_type": "execute_result"
    }
   ],
   "source": [
    "points"
   ]
  },
  {
   "cell_type": "code",
   "execution_count": 41,
   "metadata": {},
   "outputs": [],
   "source": [
    "img_lo = r\"C:\\Users\\hi020\\Desktop\\play\\sample_train1\\png\\{}.png\".format(num)"
   ]
  },
  {
   "cell_type": "code",
   "execution_count": 36,
   "metadata": {},
   "outputs": [
    {
     "data": {
      "text/plain": [
       "<matplotlib.image.AxesImage at 0x235867e9410>"
      ]
     },
     "execution_count": 36,
     "metadata": {},
     "output_type": "execute_result"
    },
    {
     "data": {
      "image/png": "[encoded data removed]",
      "text/plain": [
       "<Figure size 500x500 with 1 Axes>"
      ]
     },
     "metadata": {},
     "output_type": "display_data"
    }
   ],
   "source": [
    "plt.figure(figsize=(5,5))\n",
    "plt.gca().set_axis_off()\n",
    "\n",
    "plt.imshow(plt.imread(img_lo))"
   ]
  },
  {
   "cell_type": "markdown",
   "metadata": {},
   "source": []
  },
  {
   "cell_type": "code",
   "execution_count": 37,
   "metadata": {},
   "outputs": [
    {
     "data": {
      "image/png": "[encoded data removed]",
      "text/plain": [
       "<Figure size 1000x1000 with 1 Axes>"
      ]
     },
     "metadata": {},
     "output_type": "display_data"
    }
   ],
   "source": [
    "from matplotlib.patches import Circle\n",
    "\n",
    "fig, ax = plt.subplots(1, figsize=(10,10))\n",
    "ax.set_axis_off()\n",
    "ax.imshow(plt.imread(img_lo))\n",
    "\n",
    "for points_tuple in points:\n",
    "    # 좌측 하단 점을 원으로 표시합니다.\n",
    "    circle1 = Circle(points_tuple[0], radius=0.5, color='red')\n",
    "    ax.add_patch(circle1)\n",
    "    \n",
    "    # 우측 상단 점을 원으로 표시합니다.\n",
    "    circle2 = Circle(points_tuple[1], radius=0.5, color='red')\n",
    "    ax.add_patch(circle2)\n",
    "    \n",
    "    # 보조눈금의 y 좌표에 해당하는 중심점을 원으로 표시합니다.\n",
    "    if len(points_tuple) > 2:\n",
    "        circle3 = Circle(points_tuple[2], radius=0.5, color='red')\n",
    "        ax.add_patch(circle3)\n",
    "\n",
    "plt.show()\n"
   ]
  }
 ],
 "metadata": {
  "kernelspec": {
   "display_name": "newpy",
   "language": "python",
   "name": "python3"
  },
  "language_info": {
   "codemirror_mode": {
    "name": "ipython",
    "version": 3
   },
   "file_extension": ".py",
   "mimetype": "text/x-python",
   "name": "python",
   "nbconvert_exporter": "python",
   "pygments_lexer": "ipython3",
   "version": "3.11.7"
  }
 },
 "nbformat": 4,
 "nbformat_minor": 2
}
