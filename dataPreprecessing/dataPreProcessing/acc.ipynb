import cv2
import numpy as np

# 이미지 불러오기
image = cv2.imread( r'C:\Users\hi020\Desktop\dataset\wave\wave_chart_5.jpg.png')

# 회색조 변환
gray = cv2.cvtColor(image, cv2.COLOR_BGR2GRAY)

# Gaussian Blur 적용
blurred = cv2.GaussianBlur(gray, (5, 5), 0)

# Canny Edge Detector 적용
edged = cv2.Canny(blurred, 50, 150)

# 연결된 구성 요소 찾기
contours, _ = cv2.findContours(edged, cv2.RETR_EXTERNAL, cv2.CHAIN_APPROX_SIMPLE)

# 막대처럼 보이는 구성 요소 표시
for contour in contours:
    if cv2.contourArea(contour) > 100:  # 막대 크기 필터링
        x, y, w, h = cv2.boundingRect(contour)
        cv2.rectangle(image, (x, y), (x + w, y + h), (0, 255, 0), 2)

# 결과 이미지 저장
cv2.imwrite('detected_bars.png', image)

# 결과 이미지 보여주기
cv2.imshow('Detected Bars', image)
cv2.waitKey(0)
cv2.destroyAllWindows()

